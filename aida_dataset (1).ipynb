{
 "cells": [
  {
   "cell_type": "code",
   "execution_count": 60,
   "id": "39632aed-6503-400c-9b8b-93510eb173ce",
   "metadata": {},
   "outputs": [],
   "source": [
    "import os\n",
    "import json\n",
    "from collections import defaultdict"
   ]
  },
  {
   "cell_type": "code",
   "execution_count": 61,
   "id": "b01db6fc-b9cb-42f4-9359-9cf7cb2c4c96",
   "metadata": {
    "tags": []
   },
   "outputs": [],
   "source": [
    "#!unzip archive.zip"
   ]
  },
  {
   "cell_type": "code",
   "execution_count": 62,
   "id": "7fca6382-535f-4307-a406-34349ca3539d",
   "metadata": {},
   "outputs": [
    {
     "name": "stdout",
     "output_type": "stream",
     "text": [
      "aida_dataset.ipynb  archive.zip  batch_2  batch_5  batch_8\n",
      "aida_gt\t\t    batch_1\t batch_3  batch_6  batch_9\n",
      "aida_gt.txt\t    batch_10\t batch_4  batch_7  extras\n"
     ]
    }
   ],
   "source": [
    "!ls"
   ]
  },
  {
   "cell_type": "code",
   "execution_count": 63,
   "id": "9c52eff6-e867-47dd-a7f1-b2cdf3e55f4e",
   "metadata": {},
   "outputs": [],
   "source": [
    "PREFIX = '/opt/ml/input/data/aida_dataset'"
   ]
  },
  {
   "cell_type": "code",
   "execution_count": 64,
   "id": "31e72683-9789-4ed2-b0dd-c88c213d211e",
   "metadata": {},
   "outputs": [],
   "source": [
    "gt = {}\n",
    "for i in range(1,11):\n",
    "    folder = 'batch_' + str(i)\n",
    "    file_name = 'kaggle_data_' + str(i) +'.json'\n",
    "    file_path = os.path.join(PREFIX,folder,'JSON',file_name)\n",
    "    with open(file_path,'r') as data:\n",
    "        batch = json.load(data)\n",
    "        for image_info in batch:\n",
    "            gt[image_info['filename']] = image_info['image_data']['full_latex_chars']\n",
    "        "
   ]
  },
  {
   "cell_type": "code",
   "execution_count": 65,
   "id": "8e284aaa-3264-46d0-ba23-9c8a295e5621",
   "metadata": {},
   "outputs": [],
   "source": [
    "aida_tokens = defaultdict(int)"
   ]
  },
  {
   "cell_type": "code",
   "execution_count": 66,
   "id": "2231ef04-dc94-4c5d-8ee8-59327968b8a2",
   "metadata": {},
   "outputs": [],
   "source": [
    "for tokens in gt.values():\n",
    "    for token in tokens:\n",
    "        aida_tokens[token] += 1"
   ]
  },
  {
   "cell_type": "code",
   "execution_count": 67,
   "id": "659b566c-0638-4998-a397-4ec12e5be0ec",
   "metadata": {},
   "outputs": [],
   "source": [
    "original_tokens = []\n",
    "\n",
    "with open('/opt/ml/input/data/train_dataset/tokens.txt','r') as f:\n",
    "    for token in f:\n",
    "        token = token.replace('\\n','')\n",
    "        original_tokens.append(token)"
   ]
  },
  {
   "cell_type": "code",
   "execution_count": 68,
   "id": "45125a9e-b081-4a71-afbd-9f44f2a88d84",
   "metadata": {},
   "outputs": [],
   "source": [
    "diff_tokens = []\n",
    "for token in aida_tokens.keys():\n",
    "    if token not in original_tokens:\n",
    "        diff_tokens.append(token)"
   ]
  },
  {
   "cell_type": "code",
   "execution_count": 69,
   "id": "7086e18a-b379-4653-844e-f619f1143764",
   "metadata": {},
   "outputs": [
    {
     "data": {
      "text/plain": [
       "['\\\\lim_', '[', ']']"
      ]
     },
     "execution_count": 69,
     "metadata": {},
     "output_type": "execute_result"
    }
   ],
   "source": [
    "diff_tokens"
   ]
  },
  {
   "cell_type": "markdown",
   "id": "d1523013-9948-4e5f-8ce2-54fdb635e336",
   "metadata": {},
   "source": [
    "원래 token에 호환되도록 변경 해야함"
   ]
  },
  {
   "cell_type": "code",
   "execution_count": 79,
   "id": "d6080880-7ea6-4a41-8d35-2da4c1ba6df0",
   "metadata": {
    "tags": []
   },
   "outputs": [],
   "source": [
    "with open('aida_gt.txt','w') as aida:\n",
    "    for file_name,tokens in gt.items():\n",
    "        tokens = ' '.join(tokens)\n",
    "        aida.write(file_name+'\\t'+tokens+'\\n')"
   ]
  },
  {
   "cell_type": "markdown",
   "id": "d4158d21-0ace-4360-8afd-2da42249142c",
   "metadata": {},
   "source": [
    "각 배치의 이미지 파일을 모아서 학습 데이터 이미지로 보내고\n",
    "gt에 aida_gt를 추가하면 사용가능"
   ]
  },
  {
   "cell_type": "code",
   "execution_count": null,
   "id": "95f47c3b-fc82-454d-9265-dea86fca83bb",
   "metadata": {},
   "outputs": [],
   "source": []
  }
 ],
 "metadata": {
  "kernelspec": {
   "display_name": "Python 3",
   "language": "python",
   "name": "python3"
  },
  "language_info": {
   "codemirror_mode": {
    "name": "ipython",
    "version": 3
   },
   "file_extension": ".py",
   "mimetype": "text/x-python",
   "name": "python",
   "nbconvert_exporter": "python",
   "pygments_lexer": "ipython3",
   "version": "3.7.7"
  }
 },
 "nbformat": 4,
 "nbformat_minor": 5
}
